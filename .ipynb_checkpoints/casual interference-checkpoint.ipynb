{
 "cells": [
  {
   "cell_type": "code",
   "execution_count": 3,
   "id": "97632b75",
   "metadata": {},
   "outputs": [
    {
     "name": "stdout",
     "output_type": "stream",
     "text": [
      "Estimand type: EstimandType.NONPARAMETRIC_ATE\n",
      "\n",
      "### Estimand : 1\n",
      "Estimand name: backdoor\n",
      "No such variable(s) found!\n",
      "\n",
      "### Estimand : 2\n",
      "Estimand name: iv\n",
      "No such variable(s) found!\n",
      "\n",
      "### Estimand : 3\n",
      "Estimand name: frontdoor\n",
      "No such variable(s) found!\n",
      "\n"
     ]
    },
    {
     "name": "stderr",
     "output_type": "stream",
     "text": [
      "/opt/homebrew/lib/python3.9/site-packages/dowhy/causal_model.py:581: UserWarning: 1 variables are assumed unobserved because they are not in the dataset. Configure the logging level to `logging.WARNING` or higher for additional details.\n",
      "  warnings.warn(\n"
     ]
    },
    {
     "ename": "IndexError",
     "evalue": "list index out of range",
     "output_type": "error",
     "traceback": [
      "\u001b[0;31m---------------------------------------------------------------------------\u001b[0m",
      "\u001b[0;31mIndexError\u001b[0m                                Traceback (most recent call last)",
      "\u001b[0;32m/var/folders/vn/f3g6xm417pl2zjc0bpn598fw0000gn/T/ipykernel_26907/3352601139.py\u001b[0m in \u001b[0;36m<module>\u001b[0;34m\u001b[0m\n\u001b[1;32m     44\u001b[0m \u001b[0;31m# 第4步：估计因果效应 (Estimate)\u001b[0m\u001b[0;34m\u001b[0m\u001b[0;34m\u001b[0m\u001b[0m\n\u001b[1;32m     45\u001b[0m \u001b[0;31m# 这一步使用统计方法来估计因果效应\u001b[0m\u001b[0;34m\u001b[0m\u001b[0;34m\u001b[0m\u001b[0m\n\u001b[0;32m---> 46\u001b[0;31m causal_estimate = model.estimate_effect(\n\u001b[0m\u001b[1;32m     47\u001b[0m     \u001b[0midentified_estimand\u001b[0m\u001b[0;34m,\u001b[0m\u001b[0;34m\u001b[0m\u001b[0;34m\u001b[0m\u001b[0m\n\u001b[1;32m     48\u001b[0m     \u001b[0mmethod_name\u001b[0m\u001b[0;34m=\u001b[0m\u001b[0;34m\"linear_regression\"\u001b[0m  \u001b[0;31m# <-- 这里已经修正\u001b[0m\u001b[0;34m\u001b[0m\u001b[0;34m\u001b[0m\u001b[0m\n",
      "\u001b[0;32m/opt/homebrew/lib/python3.9/site-packages/dowhy/causal_model.py\u001b[0m in \u001b[0;36mestimate_effect\u001b[0;34m(self, identified_estimand, method_name, control_value, treatment_value, test_significance, evaluate_effect_strength, confidence_intervals, target_units, effect_modifiers, fit_estimator, method_params)\u001b[0m\n\u001b[1;32m    307\u001b[0m             \u001b[0mstr_arr\u001b[0m \u001b[0;34m=\u001b[0m \u001b[0mmethod_name\u001b[0m\u001b[0;34m.\u001b[0m\u001b[0msplit\u001b[0m\u001b[0;34m(\u001b[0m\u001b[0;34m\".\"\u001b[0m\u001b[0;34m,\u001b[0m \u001b[0mmaxsplit\u001b[0m\u001b[0;34m=\u001b[0m\u001b[0;36m1\u001b[0m\u001b[0;34m)\u001b[0m\u001b[0;34m\u001b[0m\u001b[0;34m\u001b[0m\u001b[0m\n\u001b[1;32m    308\u001b[0m             \u001b[0midentifier_name\u001b[0m \u001b[0;34m=\u001b[0m \u001b[0mstr_arr\u001b[0m\u001b[0;34m[\u001b[0m\u001b[0;36m0\u001b[0m\u001b[0;34m]\u001b[0m\u001b[0;34m\u001b[0m\u001b[0;34m\u001b[0m\u001b[0m\n\u001b[0;32m--> 309\u001b[0;31m             \u001b[0mestimator_name\u001b[0m \u001b[0;34m=\u001b[0m \u001b[0mstr_arr\u001b[0m\u001b[0;34m[\u001b[0m\u001b[0;36m1\u001b[0m\u001b[0;34m]\u001b[0m\u001b[0;34m\u001b[0m\u001b[0;34m\u001b[0m\u001b[0m\n\u001b[0m\u001b[1;32m    310\u001b[0m             \u001b[0;31m# This is done as all dowhy estimators have two parts and external ones have two or more parts\u001b[0m\u001b[0;34m\u001b[0m\u001b[0;34m\u001b[0m\u001b[0m\n\u001b[1;32m    311\u001b[0m             \u001b[0;32mif\u001b[0m \u001b[0mnum_components\u001b[0m \u001b[0;34m>\u001b[0m \u001b[0;36m2\u001b[0m\u001b[0;34m:\u001b[0m\u001b[0;34m\u001b[0m\u001b[0;34m\u001b[0m\u001b[0m\n",
      "\u001b[0;31mIndexError\u001b[0m: list index out of range"
     ]
    }
   ],
   "source": [
    "import pandas as pd\n",
    "import dowhy\n",
    "from dowhy import CausalModel\n",
    "from dowhy.datasets import linear_dataset\n",
    "\n",
    "# 第1步：创建模拟数据\n",
    "# 在实际项目中，你会用自己的真实数据\n",
    "data = linear_dataset(\n",
    "    beta=10, \n",
    "    num_common_causes=2, \n",
    "    num_instruments=0, \n",
    "    num_effect_modifiers=0, \n",
    "    num_treatments=1, \n",
    "    num_samples=1000, \n",
    "    treatment_is_binary=True\n",
    ")\n",
    "\n",
    "df = data[\"df\"]\n",
    "# 重命名列，让代码更易读\n",
    "df.rename(columns={\n",
    "    'v0': 'customer_age',\n",
    "    'v1': 'customer_location',\n",
    "    'y': 'customer_spend',\n",
    "    'W0': 'marketing_campaign'\n",
    "}, inplace=True)\n",
    "\n",
    "\n",
    "# 第2步：模型建立 (Model)\n",
    "# 这一步定义因果问题，并构建因果图\n",
    "model = CausalModel(\n",
    "    data=df,\n",
    "    treatment='marketing_campaign',\n",
    "    outcome='customer_spend',\n",
    "    common_causes=['customer_age', 'customer_location']\n",
    ")\n",
    "\n",
    "\n",
    "# 第3步：识别因果效应 (Identify)\n",
    "# 这一步基于因果图，确定可以识别因果效应的变量组合\n",
    "identified_estimand = model.identify_effect()\n",
    "print(identified_estimand)\n",
    "\n",
    "\n",
    "# 第4步：估计因果效应 (Estimate)\n",
    "# 这一步使用统计方法来估计因果效应\n",
    "causal_estimate = model.estimate_effect(\n",
    "    identified_estimand,\n",
    "    method_name=\"backdoor.linear_regression\"  # <-- 请改回这个\n",
    ")\n",
    "\n",
    "print(f\"因果效应的估计值为: {causal_estimate.value}\")\n",
    "\n",
    "\n",
    "# 第5步：反驳与验证 (Refute)\n",
    "# 这一步是验证结果是否稳健\n",
    "# 我们可以用随机安慰剂变量来测试，看看结果是否一致\n",
    "refutation = model.refute_estimate(\n",
    "    identified_estimand, \n",
    "    causal_estimate,\n",
    "    method_name=\"random_common_cause\"\n",
    ")\n",
    "\n",
    "print(refutation)"
   ]
  },
  {
   "cell_type": "code",
   "execution_count": null,
   "id": "5a05d4c7",
   "metadata": {},
   "outputs": [],
   "source": []
  }
 ],
 "metadata": {
  "kernelspec": {
   "display_name": "Python 3",
   "language": "python",
   "name": "python3"
  },
  "language_info": {
   "codemirror_mode": {
    "name": "ipython",
    "version": 3
   },
   "file_extension": ".py",
   "mimetype": "text/x-python",
   "name": "python",
   "nbconvert_exporter": "python",
   "pygments_lexer": "ipython3",
   "version": "3.9.9"
  }
 },
 "nbformat": 4,
 "nbformat_minor": 5
}
